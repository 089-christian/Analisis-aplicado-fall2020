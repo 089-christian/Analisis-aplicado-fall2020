{
 "cells": [
  {
   "cell_type": "markdown",
   "metadata": {},
   "source": [
    "**Condiciones de optimalidad**\\\n",
    "Septiembre 9, 2020"
   ]
  },
  {
   "cell_type": "code",
   "execution_count": null,
   "metadata": {},
   "outputs": [],
   "source": [
    "import numpy as np\n",
    "\n",
    "# Función que checa optimalidad\n",
    "# Necesitamos el gradiente y el hessiano\n",
    "\n",
    "def check_optimality(grad, hess): # grad R^n, hess Rnxn array"
   ]
  },
  {
   "cell_type": "code",
   "execution_count": null,
   "metadata": {},
   "outputs": [],
   "source": [
    "# Generamos función que sea el gradiente\n",
    "\n",
    "def grad(f, x0):  # x0 in R^n, np.array, f a function\n",
    "    N = x0.size\n",
    "    h = np.zeros((N,N))\n",
    "    df_0 = f(x0)[1]\n",
    "    for i in x0range(N):\n",
    "        xx0 = 1.* x0[i]\n",
    "        x0[i] = xx0 + epsilon\n",
    "        df_1 = f(x)[1]\n",
    "        h[i,:] = (df_1 - df_0)/epsilon\n",
    "        x0[i] = xx0"
   ]
  },
  {
   "cell_type": "code",
   "execution_count": null,
   "metadata": {},
   "outputs": [],
   "source": [
    "# Generamos función que sea el hessiano\n",
    "\n",
    "def hess(f, x0): # x0 in R^n, np.array"
   ]
  },
  {
   "cell_type": "code",
   "execution_count": null,
   "metadata": {},
   "outputs": [],
   "source": [
    "# Función con la que probamos\n",
    "\n",
    "def f(x0):\n",
    "    return np.sqrt(sum(x0**2))"
   ]
  }
 ],
 "metadata": {
  "kernelspec": {
   "display_name": "Python 3",
   "language": "python",
   "name": "python3"
  },
  "language_info": {
   "codemirror_mode": {
    "name": "ipython",
    "version": 3
   },
   "file_extension": ".py",
   "mimetype": "text/x-python",
   "name": "python",
   "nbconvert_exporter": "python",
   "pygments_lexer": "ipython3",
   "version": "3.8.5"
  }
 },
 "nbformat": 4,
 "nbformat_minor": 4
}
