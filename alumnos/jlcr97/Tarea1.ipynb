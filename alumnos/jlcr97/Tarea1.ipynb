{
 "cells": [
  {
   "cell_type": "code",
   "execution_count": 12,
   "metadata": {},
   "outputs": [],
   "source": [
    "#Importar librerías \n",
    "import numpy as np\n",
    "from numpy import linalg as la"
   ]
  },
  {
   "cell_type": "code",
   "execution_count": 13,
   "metadata": {},
   "outputs": [],
   "source": [
    "#Código para caluclar el gradiente\n",
    "def grad(f,xo):\n",
    "    n = x0.size\n",
    "    eps=0.000001\n",
    "    res=np.zeros(n)\n",
    "    for i in range(n):\n",
    "        zer = np.zeros(n)\n",
    "        zer[i] += eps\n",
    "        x1 = x0 + zer\n",
    "        res[i] = (f(x1)-f(x0))/eps\n",
    "    return res"
   ]
  },
  {
   "cell_type": "code",
   "execution_count": 14,
   "metadata": {},
   "outputs": [
    {
     "data": {
      "text/plain": [
       "211"
      ]
     },
     "execution_count": 14,
     "metadata": {},
     "output_type": "execute_result"
    }
   ],
   "source": [
    "def f(x0):\n",
    "    return sum(x0**3 + 2*x0 -5)\n",
    "x0 = np.array([4,2,5,2])\n",
    "f(x0)"
   ]
  },
  {
   "cell_type": "code",
   "execution_count": 15,
   "metadata": {},
   "outputs": [
    {
     "data": {
      "text/plain": [
       "array([50.00001198, 14.00000599, 77.00001501, 14.00000599])"
      ]
     },
     "execution_count": 15,
     "metadata": {},
     "output_type": "execute_result"
    }
   ],
   "source": [
    "grad(f,x0)"
   ]
  },
  {
   "cell_type": "code",
   "execution_count": 16,
   "metadata": {},
   "outputs": [],
   "source": [
    "A = [[1, 4, 5,7], \n",
    "    [-5, 8, 9,1],\n",
    "    [2,3,4,8],\n",
    "    [-2,-5,11,4]]"
   ]
  },
  {
   "cell_type": "code",
   "execution_count": 17,
   "metadata": {},
   "outputs": [],
   "source": [
    "#Código que calcula la hessiana\n",
    "#el desarrollo de este método se hará con diferencias finitas \n",
    "def hess(f,xo):\n",
    "    n = x0.size\n",
    "    eps=0.000001\n",
    "    res=np.zeros((n,n))\n",
    "    for i in range(n):\n",
    "        for j in range(n):\n",
    "            zer = np.zeros(n)\n",
    "            zer2 = np.zeros(n)\n",
    "            zer[i] += eps\n",
    "            zer2[j] += eps\n",
    "            x_e = x0 + zer + zer2\n",
    "            x_ei = x0 + zer\n",
    "            x_ej = x0 + zer2\n",
    "            res[i][j] = (f(x_e)-f(x_ei)-f(x_ej)+f(x0))/(eps**2)\n",
    "    return res"
   ]
  },
  {
   "cell_type": "code",
   "execution_count": 18,
   "metadata": {},
   "outputs": [
    {
     "data": {
      "text/plain": [
       "array([[2.40447662e+01, 2.84217094e-02, 2.84217094e-02, 0.00000000e+00],\n",
       "       [2.84217094e-02, 1.20223831e+01, 2.84217094e-02, 0.00000000e+00],\n",
       "       [2.84217094e-02, 2.84217094e-02, 2.99849034e+01, 0.00000000e+00],\n",
       "       [0.00000000e+00, 0.00000000e+00, 0.00000000e+00, 1.20223831e+01]])"
      ]
     },
     "execution_count": 18,
     "metadata": {},
     "output_type": "execute_result"
    }
   ],
   "source": [
    "hess(f,x0)"
   ]
  },
  {
   "cell_type": "code",
   "execution_count": 73,
   "metadata": {},
   "outputs": [],
   "source": [
    "#Código que regresa si el punto xk cumple con las condiciones de optimalidad\n",
    "def condiciones_optimalidad(gradiente,hessiana):\n",
    "    n = len(gradiente)\n",
    "    v,w = la.eig(hessiana)\n",
    "    n1 = len(v)\n",
    "    bandera = True\n",
    "    bandera1 = True\n",
    "    \n",
    "    for i in range(n):\n",
    "        if(gradiente[i]!=0):\n",
    "            bandera= False\n",
    "        if(v[i]<=0):\n",
    "            bandera1 = False\n",
    "            \n",
    "    if (bandera == True and bandera1 == True):\n",
    "        return \"las condiciones de optamilidad se cumplen\"\n",
    "    else:\n",
    "        return \"las condciones de optimalidad no se cumplen\"\n",
    "        "
   ]
  },
  {
   "cell_type": "code",
   "execution_count": 74,
   "metadata": {},
   "outputs": [
    {
     "data": {
      "text/plain": [
       "'las condciones de optimalidad no se cumplen'"
      ]
     },
     "execution_count": 74,
     "metadata": {},
     "output_type": "execute_result"
    }
   ],
   "source": [
    "condiciones_optimalidad(grad(f,x0),A)"
   ]
  }
 ],
 "metadata": {
  "kernelspec": {
   "display_name": "Python 3",
   "language": "python",
   "name": "python3"
  },
  "language_info": {
   "codemirror_mode": {
    "name": "ipython",
    "version": 3
   },
   "file_extension": ".py",
   "mimetype": "text/x-python",
   "name": "python",
   "nbconvert_exporter": "python",
   "pygments_lexer": "ipython3",
   "version": "3.8.5"
  }
 },
 "nbformat": 4,
 "nbformat_minor": 4
}
