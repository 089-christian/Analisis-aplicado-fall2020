{
 "cells": [
  {
   "cell_type": "markdown",
   "metadata": {},
   "source": [
    "Proyecto (primera parte) \n",
    "\n",
    "En esta primera parte del proyecto se estudiará e implementará el algoritmo de Búsqueda Lineal de Newton con modificación a la Hessiana. \n"
   ]
  },
  {
   "cell_type": "code",
   "execution_count": 1,
   "metadata": {},
   "outputs": [],
   "source": [
    "#Importar librerías \n",
    "import numpy as np\n",
    "import math as ma\n",
    "import random as rd\n",
    "from numpy import linalg as la"
   ]
  },
  {
   "cell_type": "code",
   "execution_count": 2,
   "metadata": {},
   "outputs": [],
   "source": [
    "#Código para caluclar el gradiente\n",
    "#elegimos un error apropiado\n",
    "def grad(f,xo):\n",
    "    n = len(xo)\n",
    "    eps=0.000001\n",
    "    res=np.zeros(n)\n",
    "    for i in range(n):\n",
    "        zer = np.zeros(n)\n",
    "        zer[i] += eps\n",
    "        x1 = xo + zer\n",
    "        res[i] = (f(x1)-f(xo))/eps\n",
    "    return res"
   ]
  },
  {
   "cell_type": "code",
   "execution_count": 3,
   "metadata": {},
   "outputs": [
    {
     "data": {
      "text/plain": [
       "7.06449510224598"
      ]
     },
     "execution_count": 3,
     "metadata": {},
     "output_type": "execute_result"
    }
   ],
   "source": [
    "#Aquí definimos nuestras funciones para probar nuestro código\n",
    "#función 1\n",
    "def i(xo):\n",
    "    suma=0\n",
    "    for i in range(len(xo)):\n",
    "        suma=suma+ma.sqrt(xo[i])\n",
    "    return suma\n",
    "\n",
    "xo = np.array([4,2,5,2])\n",
    "#imprimimos el valor de la función en xo \n",
    "i(xo)"
   ]
  },
  {
   "cell_type": "code",
   "execution_count": 34,
   "metadata": {},
   "outputs": [],
   "source": [
    "#Definimos la función Rosenbrock\n",
    "xo=[1,1]\n",
    "def rosen(xo):\n",
    "    return 100*(xo[1]-(xo[0])**2)**2+(1-xo[0])**2\n",
    "\n",
    "def rosen_1(xo):\n",
    "    return 20*(xo[1]-(xo[0])**2)**2+(2-xo[0])**2\n",
    "\n",
    "def rosen_2(xo):\n",
    "    return 50*(xo[1]-(xo[0])**2)**2+(0-xo[0])**2\n",
    "#imprimimos su valor en ese punto \n",
    "\n"
   ]
  },
  {
   "cell_type": "code",
   "execution_count": 35,
   "metadata": {},
   "outputs": [
    {
     "data": {
      "text/plain": [
       "array([4.010004e-04, 1.000000e-04])"
      ]
     },
     "execution_count": 35,
     "metadata": {},
     "output_type": "execute_result"
    }
   ],
   "source": [
    "#Calculamos el gradiente de forma anlítica y lo calcula bien \n",
    "grad(rosen,xo)"
   ]
  },
  {
   "cell_type": "code",
   "execution_count": 36,
   "metadata": {},
   "outputs": [],
   "source": [
    "#Código que calcula la hessiana\n",
    "#el desarrollo de este método se hará con diferencias finitas \n",
    "def hess(f,xo):\n",
    "    n = len(xo)\n",
    "    eps=0.000001\n",
    "    res=np.zeros((n,n))\n",
    "    for i in range(n):\n",
    "        for j in range(n):\n",
    "            zer = np.zeros(n)\n",
    "            zer2 = np.zeros(n)\n",
    "            zer[i] += eps\n",
    "            zer2[j] += eps\n",
    "            x_e = xo + zer + zer2\n",
    "            x_ei = xo + zer\n",
    "            x_ej = xo + zer2\n",
    "            res[i][j] = (f(x_e)-f(x_ei)-f(x_ej)+f(xo))/(eps**2)\n",
    "    return res"
   ]
  },
  {
   "cell_type": "code",
   "execution_count": 37,
   "metadata": {},
   "outputs": [
    {
     "data": {
      "text/plain": [
       "array([[ 802.00239973, -400.00019995],\n",
       "       [-400.00019995,  199.99999997]])"
      ]
     },
     "execution_count": 37,
     "metadata": {},
     "output_type": "execute_result"
    }
   ],
   "source": [
    "#imprimimos la Hessiana \n",
    "hess(rosen,xo)"
   ]
  },
  {
   "cell_type": "code",
   "execution_count": 38,
   "metadata": {},
   "outputs": [],
   "source": [
    "#Código que regresa si el punto xk cumple con las condiciones de optimalidad\n",
    "def condiciones_optimalidad(f,xo,tol):\n",
    "    n = len(grad(f,xo))\n",
    "    v,w = la.eig(hess(f,xo))\n",
    "    n1 = len(v)\n",
    "    bandera = True\n",
    "    bandera1 = True\n",
    "    eps=0.0001\n",
    "    \n",
    "    for i in range(n):\n",
    "        if abs(grad(f,xo)[i])>tol:\n",
    "            bandera= False\n",
    "        if(v[i]<=0):\n",
    "            bandera1 = False\n",
    "            \n",
    "    if (bandera == True and bandera1 == True):\n",
    "        return True\n",
    "    else:\n",
    "        return False\n",
    "    "
   ]
  },
  {
   "cell_type": "code",
   "execution_count": 39,
   "metadata": {},
   "outputs": [
    {
     "data": {
      "text/plain": [
       "True"
      ]
     },
     "execution_count": 39,
     "metadata": {},
     "output_type": "execute_result"
    }
   ],
   "source": [
    "#permitimos que el usuario ingrese un nivel de tolerancia \n",
    "condiciones_optimalidad(rosen,xo,.001)"
   ]
  },
  {
   "cell_type": "code",
   "execution_count": 40,
   "metadata": {},
   "outputs": [],
   "source": [
    "# definir función mk \n",
    "def mk(f,xo,p):\n",
    "    H = hess(f,xo)\n",
    "    G = grad(f,xo)\n",
    "    pt= np.transpose(p)\n",
    "    return f(xo) + np.dot(pt,G) + 0.5*np.dot(np.dot(pt,H),pt)"
   ]
  },
  {
   "cell_type": "code",
   "execution_count": 41,
   "metadata": {
    "scrolled": true
   },
   "outputs": [
    {
     "data": {
      "text/plain": [
       "0.00010608999340135658"
      ]
     },
     "execution_count": 41,
     "metadata": {},
     "output_type": "execute_result"
    }
   ],
   "source": [
    "#probamos con un punto la función\n",
    "p=[.01,.02]\n",
    "mk(rosen,xo,p)"
   ]
  },
  {
   "cell_type": "code",
   "execution_count": 42,
   "metadata": {},
   "outputs": [],
   "source": [
    "#Algoritmo de búsqueda de paso (BacksS)\n",
    "def BackS(a,f,xk,pk):\n",
    "    rd.seed(123)\n",
    "    c = rd.uniform(0,1)\n",
    "    while f(xk+a*pk)>f(xk)+c*a*np.dot(grad(f,xk),pk):\n",
    "        rho = rd.uniform(0,1)\n",
    "        a = rho*a\n",
    "    return a \n"
   ]
  },
  {
   "cell_type": "code",
   "execution_count": 43,
   "metadata": {},
   "outputs": [
    {
     "data": {
      "text/plain": [
       "0.08718667752263232"
      ]
     },
     "execution_count": 43,
     "metadata": {},
     "output_type": "execute_result"
    }
   ],
   "source": [
    "BackS(1,rosen,np.array([1.2,1.2]),np.array([-1,-2]))"
   ]
  },
  {
   "cell_type": "code",
   "execution_count": 44,
   "metadata": {},
   "outputs": [],
   "source": [
    "#Algoritmo Cholesky con mútilplo de la identidad\n",
    "#np.transpose\n",
    "def Cholesky(A,b,k):\n",
    "    t=0\n",
    "    if min(np.diag(A)) > 0:\n",
    "         t = 0\n",
    "    else: \n",
    "        t = -min(np.diag(A)) + b\n",
    "        \n",
    "    for j in range(k):\n",
    "        try: \n",
    "            L=la.cholesky(A + t*np.identity(len(A)))\n",
    "        except:\n",
    "            t = max(2*t,b)\n",
    "        else:\n",
    "            break\n",
    "    return np.dot(L,L)\n",
    "    "
   ]
  },
  {
   "cell_type": "code",
   "execution_count": 45,
   "metadata": {},
   "outputs": [],
   "source": [
    "#Algoritmo de búsqueda lineal de Newton Modificado\n",
    "def Newton_Mod(xk,f,n,k,b):\n",
    "    for i in range(n):\n",
    "        Bk = hess(f,xk)\n",
    "        try:\n",
    "            L=la.cholesky(Bk)\n",
    "        except:\n",
    "            Bk=Cholesky(Bk,b,k)\n",
    "        pk = np.dot(la.inv(Bk),-1*grad(f,xk))\n",
    "        xk=xk+BackS(1,f,xk,pk)*pk\n",
    "    return xk\n",
    "        "
   ]
  },
  {
   "cell_type": "code",
   "execution_count": 46,
   "metadata": {},
   "outputs": [
    {
     "data": {
      "text/plain": [
       "array([0.99969965, 0.99939889])"
      ]
     },
     "execution_count": 46,
     "metadata": {},
     "output_type": "execute_result"
    }
   ],
   "source": [
    "Newton_Mod([-1.2,1],rosen,1000,1000,1)"
   ]
  },
  {
   "cell_type": "code",
   "execution_count": 47,
   "metadata": {},
   "outputs": [
    {
     "data": {
      "text/plain": [
       "array([1.99979954, 3.99919768])"
      ]
     },
     "execution_count": 47,
     "metadata": {},
     "output_type": "execute_result"
    }
   ],
   "source": [
    "Newton_Mod([1.2,1.2],rosen_1,1000,1000,1)"
   ]
  },
  {
   "cell_type": "code",
   "execution_count": 33,
   "metadata": {},
   "outputs": [
    {
     "data": {
      "text/plain": [
       "array([-4.54910459e-07, -5.00131355e-07])"
      ]
     },
     "execution_count": 33,
     "metadata": {},
     "output_type": "execute_result"
    }
   ],
   "source": [
    "Newton_Mod([1.2,1.2],rosen_2,1000,1000,1)"
   ]
  },
  {
   "cell_type": "code",
   "execution_count": null,
   "metadata": {},
   "outputs": [],
   "source": []
  }
 ],
 "metadata": {
  "kernelspec": {
   "display_name": "Python 3",
   "language": "python",
   "name": "python3"
  },
  "language_info": {
   "codemirror_mode": {
    "name": "ipython",
    "version": 3
   },
   "file_extension": ".py",
   "mimetype": "text/x-python",
   "name": "python",
   "nbconvert_exporter": "python",
   "pygments_lexer": "ipython3",
   "version": "3.8.5"
  }
 },
 "nbformat": 4,
 "nbformat_minor": 4
}
