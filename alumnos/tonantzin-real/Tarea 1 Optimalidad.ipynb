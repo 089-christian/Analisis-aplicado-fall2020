{
 "cells": [
  {
   "cell_type": "markdown",
   "metadata": {},
   "source": [
    "**Tarea 1: Condiciones de optimalidad**\\\n",
    "Tonantzin Real Rojas \\\n",
    "**C.U.** 163491 \\\n",
    "**Fecha:** Septiembre 17, 2020"
   ]
  },
  {
   "cell_type": "code",
   "execution_count": 67,
   "metadata": {},
   "outputs": [],
   "source": [
    "import numpy as np\n",
    "from numpy import linalg as LA"
   ]
  },
  {
   "cell_type": "code",
   "execution_count": 114,
   "metadata": {},
   "outputs": [
    {
     "name": "stdout",
     "output_type": "stream",
     "text": [
      "55\n",
      "[10.000001  6.000001 12.000001  6.000001]\n",
      "[ 0.07690488  2.49349439 10.42960073]\n",
      "[1.99662509 2.00373051 1.99662509 2.00373051]\n"
     ]
    }
   ],
   "source": [
    "# Función con la que probamos\n",
    "\n",
    "def f(x0):\n",
    "    return sum(x0**2 + 2*x0 -5)\n",
    "    #return sum(x0**2)\n",
    "\n",
    "x0 = np.array([4,2,5,2])\n",
    "#x0 = np.array([0,0,0,0])\n",
    "print(f(x0))\n",
    "\n",
    "print(gradiente(f,x0))\n",
    "\n",
    "A = [[1, 4, 5],\n",
    "    [-5, 8, 9],\n",
    "    [2,3,4]]\n",
    "\n",
    "#A = [[0, 0, 0],\n",
    "#    [0, 0, 0],\n",
    "#    [0,0,0]]\n",
    "\n",
    "v,w= LA.eig(A)\n",
    "print(v)\n",
    "\n",
    "print(hessiana(f,x0))"
   ]
  },
  {
   "cell_type": "code",
   "execution_count": 12,
   "metadata": {},
   "outputs": [],
   "source": [
    "# Código que calcula el gradiente de la función f en el punto xk\n",
    "\n",
    "def gradiente(f, xk):  # xk in R^n, np.array, f a function\n",
    "    n = xk.size\n",
    "    epsilon = 0.000001\n",
    "    res = np.zeros(n)\n",
    "    \n",
    "    for i in range(n):\n",
    "        zer = np.zeros(n)\n",
    "        zer[i] += epsilon\n",
    "        x1 = xk + zer\n",
    "        res[i] = (f(x1) - f(xk))/epsilon\n",
    "    return res"
   ]
  },
  {
   "cell_type": "code",
   "execution_count": 16,
   "metadata": {},
   "outputs": [],
   "source": [
    "# Código que calcula la hessiana\n",
    "\n",
    "def hessiana(f, xk): # xk in R^n, np.array\n",
    "    n = xk.size\n",
    "    epsilon = 0.000001\n",
    "    res = np.zeros(n)\n",
    "    \n",
    "    for i in range(n):\n",
    "        zer = np.zeros(n)\n",
    "        zer[i] += epsilon\n",
    "        xS = xk + zer     # x + h\n",
    "        xR = xk - zer     # x - h\n",
    "        res[i] = (f(xS) - 2*f(xk) + f(xR)) / (epsilon**2)    # Diferencia finita centrada\n",
    "    return res"
   ]
  },
  {
   "cell_type": "code",
   "execution_count": 115,
   "metadata": {},
   "outputs": [],
   "source": [
    "# Código que regresa si el punto xk cumple con las condiciones de optimalidad\n",
    "\n",
    "def condiciones_optimalidad(gradiente,hessiana):\n",
    "    n = gradiente.size\n",
    "    flagG = True\n",
    "    \n",
    "    # Gradiente = 0\n",
    "    for i in range(n):\n",
    "        if gradiente[i] != 0:    # Entradas del gradiente deben ser 0 para la optimalidad\n",
    "            flagG = False\n",
    "    \n",
    "    if flagG == False:\n",
    "        print(\"El gradiente no es distinto de cero\")\n",
    "    \n",
    "    # Hessiana definida positiva\n",
    "    v, w = LA.eig(A)   # Sacamos los eigenpares\n",
    "    vLen = v.size\n",
    "    flagH = True\n",
    "    \n",
    "    for i in range(vLen):\n",
    "        if v[i] <= 0:\n",
    "            flagH = False\n",
    "    \n",
    "    if flagH == False:\n",
    "        print(\"La  hessiana no es positiva definida\")\n",
    "    \n",
    "    # Las condiciones de optimalidad se cumplen\n",
    "    if flagG == True and flagH == True:\n",
    "        print(\"Las condiciones de optimalidad se cumplen\")"
   ]
  },
  {
   "cell_type": "code",
   "execution_count": 113,
   "metadata": {},
   "outputs": [
    {
     "name": "stdout",
     "output_type": "stream",
     "text": [
      "El gradiente no es distinto de cero\n"
     ]
    }
   ],
   "source": [
    "condiciones_optimalidad(gradiente(f,x0),A)"
   ]
  },
  {
   "cell_type": "code",
   "execution_count": null,
   "metadata": {},
   "outputs": [],
   "source": [
    "# Código que genera la función de aproximación mk que vimos en clase para el algoritmo de región de confianza\n",
    "def mk(f,xk):"
   ]
  }
 ],
 "metadata": {
  "kernelspec": {
   "display_name": "Python 3",
   "language": "python",
   "name": "python3"
  },
  "language_info": {
   "codemirror_mode": {
    "name": "ipython",
    "version": 3
   },
   "file_extension": ".py",
   "mimetype": "text/x-python",
   "name": "python",
   "nbconvert_exporter": "python",
   "pygments_lexer": "ipython3",
   "version": "3.8.5"
  }
 },
 "nbformat": 4,
 "nbformat_minor": 4
}
