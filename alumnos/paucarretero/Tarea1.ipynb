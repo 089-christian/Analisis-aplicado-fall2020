{
 "cells": [
  {
   "cell_type": "code",
   "execution_count": 2,
   "metadata": {},
   "outputs": [],
   "source": [
    "import numpy as np"
   ]
  },
  {
   "cell_type": "code",
   "execution_count": 1,
   "metadata": {},
   "outputs": [
    {
     "ename": "SyntaxError",
     "evalue": "unexpected EOF while parsing (<ipython-input-1-3e456cf95123>, line 1)",
     "output_type": "error",
     "traceback": [
      "\u001b[0;36m  File \u001b[0;32m\"<ipython-input-1-3e456cf95123>\"\u001b[0;36m, line \u001b[0;32m1\u001b[0m\n\u001b[0;31m    def check_optimality(grad,hess):\u001b[0m\n\u001b[0m                                    ^\u001b[0m\n\u001b[0;31mSyntaxError\u001b[0m\u001b[0;31m:\u001b[0m unexpected EOF while parsing\n"
     ]
    }
   ],
   "source": [
    "\n",
    "def check_optimality(grad,hess):#grad R^n, hess Rnxn, np.array\n",
    "    "
   ]
  },
  {
   "cell_type": "code",
   "execution_count": 57,
   "metadata": {},
   "outputs": [],
   "source": [
    "def gradiente(f, x0): #x0 in R^n, np.array. f a function\n",
    "    n=x0.size\n",
    "    eps=0.000001\n",
    "    res=np.zeros(n)\n",
    "    for i in range(n):\n",
    "        aux=np.zeros(n)\n",
    "        aux[i] +=eps\n",
    "        xi=x0+aux\n",
    "        res[i]=(f(xi)-f(x0))/eps\n",
    "    return res"
   ]
  },
  {
   "cell_type": "code",
   "execution_count": 61,
   "metadata": {},
   "outputs": [],
   "source": [
    "def hessiana(f, x0): #x0 in R^n, np.array\n",
    "    n=x0.size\n",
    "    eps=0.00001\n",
    "    hes=np.zeros((n,n))\n",
    "    for i in range(n):\n",
    "        for j in range(n):\n",
    "            aux1=np.zeros(n)\n",
    "            aux1[i] += eps\n",
    "            aux1[j] += eps\n",
    "            xi1=x0+aux1\n",
    "            aux2=np.zeros(n)\n",
    "            aux2[i] += eps\n",
    "            xi2= x0+aux2\n",
    "            aux3=np.zeros(n)\n",
    "            aux3[j] += eps\n",
    "            xi3 = x0+aux3\n",
    "            hes[i,j]=f(xi1)-f(xi2)-f(xi3)+f(x0)\n",
    "            hes[i,j]/= eps**2\n",
    "            \n",
    "    return hes"
   ]
  },
  {
   "cell_type": "code",
   "execution_count": 3,
   "metadata": {},
   "outputs": [],
   "source": [
    "def f(x0):\n",
    "    return np.sqrt(sum(x0**2))"
   ]
  },
  {
   "cell_type": "code",
   "execution_count": 56,
   "metadata": {},
   "outputs": [
    {
     "data": {
      "text/plain": [
       "49"
      ]
     },
     "execution_count": 56,
     "metadata": {},
     "output_type": "execute_result"
    }
   ],
   "source": [
    "def f(x0):\n",
    "    return sum(x0**2+2*x0-3)\n",
    "x0=np.array([2,5,3])\n",
    "f(x0)"
   ]
  },
  {
   "cell_type": "code",
   "execution_count": 62,
   "metadata": {},
   "outputs": [
    {
     "data": {
      "text/plain": [
       "array([[2.00003569, 0.        , 0.        ],\n",
       "       [0.        , 2.00003569, 0.        ],\n",
       "       [0.        , 0.        , 2.00003569]])"
      ]
     },
     "execution_count": 62,
     "metadata": {},
     "output_type": "execute_result"
    }
   ],
   "source": [
    "hessiana(f,x0)"
   ]
  }
 ],
 "metadata": {
  "kernelspec": {
   "display_name": "Python 3",
   "language": "python",
   "name": "python3"
  },
  "language_info": {
   "codemirror_mode": {
    "name": "ipython",
    "version": 3
   },
   "file_extension": ".py",
   "mimetype": "text/x-python",
   "name": "python",
   "nbconvert_exporter": "python",
   "pygments_lexer": "ipython3",
   "version": "3.8.5"
  }
 },
 "nbformat": 4,
 "nbformat_minor": 4
}
