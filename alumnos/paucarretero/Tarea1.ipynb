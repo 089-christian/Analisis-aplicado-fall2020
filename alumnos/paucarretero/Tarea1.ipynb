{
 "cells": [
  {
   "cell_type": "code",
   "execution_count": 5,
   "metadata": {},
   "outputs": [],
   "source": [
    "import numpy as np"
   ]
  },
  {
   "cell_type": "code",
   "execution_count": null,
   "metadata": {},
   "outputs": [],
   "source": []
  },
  {
   "cell_type": "code",
   "execution_count": 1,
   "metadata": {},
   "outputs": [
    {
     "ename": "SyntaxError",
     "evalue": "unexpected EOF while parsing (<ipython-input-1-3e456cf95123>, line 1)",
     "output_type": "error",
     "traceback": [
      "\u001b[0;36m  File \u001b[0;32m\"<ipython-input-1-3e456cf95123>\"\u001b[0;36m, line \u001b[0;32m1\u001b[0m\n\u001b[0;31m    def check_optimality(grad,hess):\u001b[0m\n\u001b[0m                                    ^\u001b[0m\n\u001b[0;31mSyntaxError\u001b[0m\u001b[0;31m:\u001b[0m unexpected EOF while parsing\n"
     ]
    }
   ],
   "source": [
    "\n",
    "def check_optimality(grad,hess):#grad R^n, hess Rnxn, np.array\n",
    "    "
   ]
  },
  {
   "cell_type": "code",
   "execution_count": 27,
   "metadata": {},
   "outputs": [],
   "source": [
    "def grad(f, x0): #x0 in R^n, np.array. f a function\n",
    "    n=x0.size\n",
    "    eps=0.0000001\n",
    "    res=np.zeros(n)\n",
    "    for i in range(n):\n",
    "        aux=np.zeros(n)\n",
    "        aux[i] +=eps\n",
    "        xi=x0+aux\n",
    "        res[i]=(f(xi)-f(x0))/eps\n",
    "    return res"
   ]
  },
  {
   "cell_type": "code",
   "execution_count": 38,
   "metadata": {},
   "outputs": [],
   "source": [
    "def hess(f, x0): #x0 in R^n, np.array\n",
    "    n=x0.size\n",
    "    eps=0.0000000001\n",
    "    hes=np.zeros((n,n))\n",
    "    grad0=grad(f,x0)\n",
    "    for i in range(n):\n",
    "        aux=np.zeros(n)\n",
    "        aux[i] +=eps\n",
    "        xi=x0+aux\n",
    "        gradi= grad(f,xi)\n",
    "        hes[:,i]=(gradi-grad0)/eps\n",
    "    return hes"
   ]
  },
  {
   "cell_type": "code",
   "execution_count": 3,
   "metadata": {},
   "outputs": [],
   "source": [
    "def f(x0):\n",
    "    return np.sqrt(sum(x0**2))"
   ]
  },
  {
   "cell_type": "code",
   "execution_count": 21,
   "metadata": {},
   "outputs": [
    {
     "data": {
      "text/plain": [
       "70"
      ]
     },
     "execution_count": 21,
     "metadata": {},
     "output_type": "execute_result"
    }
   ],
   "source": [
    "def f(x0):\n",
    "    return sum(x0**2+2*x0-3)\n",
    "x0=np.array([2,5,4,3])\n",
    "f(x0)"
   ]
  },
  {
   "cell_type": "code",
   "execution_count": 23,
   "metadata": {},
   "outputs": [
    {
     "data": {
      "text/plain": [
       "array([2, 5, 4, 3])"
      ]
     },
     "execution_count": 23,
     "metadata": {},
     "output_type": "execute_result"
    }
   ],
   "source": [
    "x0"
   ]
  },
  {
   "cell_type": "code",
   "execution_count": 28,
   "metadata": {},
   "outputs": [
    {
     "data": {
      "text/plain": [
       "array([ 6.00000007, 12.00000014, 10.00000012,  8.00000009])"
      ]
     },
     "execution_count": 28,
     "metadata": {},
     "output_type": "execute_result"
    }
   ],
   "source": [
    "grad(f,x0)"
   ]
  },
  {
   "cell_type": "code",
   "execution_count": 40,
   "metadata": {},
   "outputs": [
    {
     "data": {
      "text/plain": [
       "array([[2.84217094, 0.        , 0.        , 0.        ],\n",
       "       [0.        , 1.42108547, 0.        , 0.        ],\n",
       "       [0.        , 0.        , 2.84217094, 0.        ],\n",
       "       [0.        , 0.        , 0.        , 1.42108547]])"
      ]
     },
     "execution_count": 40,
     "metadata": {},
     "output_type": "execute_result"
    }
   ],
   "source": [
    "hess(f,x0)"
   ]
  }
 ],
 "metadata": {
  "kernelspec": {
   "display_name": "Python 3",
   "language": "python",
   "name": "python3"
  },
  "language_info": {
   "codemirror_mode": {
    "name": "ipython",
    "version": 3
   },
   "file_extension": ".py",
   "mimetype": "text/x-python",
   "name": "python",
   "nbconvert_exporter": "python",
   "pygments_lexer": "ipython3",
   "version": "3.8.5"
  }
 },
 "nbformat": 4,
 "nbformat_minor": 4
}
