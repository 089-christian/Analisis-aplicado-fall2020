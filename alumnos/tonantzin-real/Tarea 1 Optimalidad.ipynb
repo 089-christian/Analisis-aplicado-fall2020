{
 "cells": [
  {
   "cell_type": "markdown",
   "metadata": {},
   "source": [
    "**Tarea 1: Condiciones de optimalidad**\\\n",
    "Tonantzin Real Rojas \\\n",
    "**C.U.** 163491 \\\n",
    "**Fecha:** Septiembre 17, 2020"
   ]
  },
  {
   "cell_type": "code",
   "execution_count": 1,
   "metadata": {},
   "outputs": [],
   "source": [
    "import numpy as np\n",
    "from numpy import linalg as LA"
   ]
  },
  {
   "cell_type": "code",
   "execution_count": 2,
   "metadata": {},
   "outputs": [
    {
     "name": "stdout",
     "output_type": "stream",
     "text": [
      "55\n"
     ]
    }
   ],
   "source": [
    "# Función, x y p con la que probamos\n",
    "x0 = np.array([4,2,5,2])\n",
    "p = np.array([0.01,0.02,0.005,.02])\n",
    "\n",
    "def f(x0):\n",
    "    return sum(x0**2 + 2*x0 -5)\n",
    "\n",
    "print(f(x0))"
   ]
  },
  {
   "cell_type": "code",
   "execution_count": 3,
   "metadata": {},
   "outputs": [],
   "source": [
    "# Código que calcula el gradiente de la función f en el punto xk\n",
    "\n",
    "def gradiente(f, xk):  # xk in R^n, np.array, f a function\n",
    "    n = xk.size\n",
    "    epsilon = 0.0000001\n",
    "    res = np.zeros(n)\n",
    "    \n",
    "    for i in range(n):\n",
    "        zer = np.zeros(n)\n",
    "        zer[i] += epsilon\n",
    "        x1 = xk + zer\n",
    "        res[i] = (f(x1) - f(xk))/epsilon\n",
    "    return res"
   ]
  },
  {
   "cell_type": "code",
   "execution_count": 4,
   "metadata": {},
   "outputs": [
    {
     "data": {
      "text/plain": [
       "array([10.00000012,  6.00000007, 12.00000014,  6.00000007])"
      ]
     },
     "execution_count": 4,
     "metadata": {},
     "output_type": "execute_result"
    }
   ],
   "source": [
    "# Probamos\n",
    "gradiente(f,x0)"
   ]
  },
  {
   "cell_type": "code",
   "execution_count": 5,
   "metadata": {},
   "outputs": [],
   "source": [
    "# Código que calcula la hessiana\n",
    "\n",
    "def hessiana(f, xk): # xk in R^n, np.array\n",
    "    n = xk.size\n",
    "    epsilon = 0.0000001\n",
    "    res = np.zeros((n,n))\n",
    "    \n",
    "    for i in range(n):\n",
    "        for j in range (n):\n",
    "            zeri = np.zeros(n)\n",
    "            zerj = np.zeros(n)\n",
    "            zeri[i] += epsilon\n",
    "            zerj[j] += epsilon\n",
    "            \n",
    "            x2e = xk + zeri + zerj   # x + epsilon*ei + epsilon*ej\n",
    "            xei = xk + zeri          # x + epsilon*ei \n",
    "            xej = xk + zerj          # x + epsilon * ej\n",
    "            \n",
    "            res[i,j] = (f(x2e) - f(xei) - f(xej) + f(xk)) / (epsilon**2)   # Hessiana\n",
    "            \n",
    "    return res        "
   ]
  },
  {
   "cell_type": "code",
   "execution_count": 6,
   "metadata": {},
   "outputs": [
    {
     "data": {
      "text/plain": [
       "array([[2.13162821, 0.        , 0.        , 0.        ],\n",
       "       [0.        , 2.84217094, 0.        , 0.        ],\n",
       "       [0.        , 0.        , 1.42108547, 0.        ],\n",
       "       [0.        , 0.        , 0.        , 2.84217094]])"
      ]
     },
     "execution_count": 6,
     "metadata": {},
     "output_type": "execute_result"
    }
   ],
   "source": [
    "# Probamos\n",
    "hessiana(f,x0)"
   ]
  },
  {
   "cell_type": "code",
   "execution_count": 7,
   "metadata": {},
   "outputs": [],
   "source": [
    "# Código que regresa si se cumplen las condiciones de optimalidad\n",
    "\n",
    "def condiciones_optimalidad(f,xk):\n",
    "    grad = gradiente(f,xk)\n",
    "    hes = hessiana(f,xk)\n",
    "    \n",
    "    n = grad.size\n",
    "    tol = 0.000001  \n",
    "    flagG = True\n",
    "    \n",
    "    # Gradiente = 0\n",
    "    for i in range(n):\n",
    "        if grad[i] > tol:    # Entradas del gradiente deben ser 0 para la optimalidad pero consideramos una tolerancia\n",
    "            flagG = False\n",
    "    \n",
    "    if flagG == False:\n",
    "        print(\"El gradiente no es distinto de cero\")\n",
    "    \n",
    "    # Hessiana definida positiva\n",
    "    v, w = LA.eig(hes)   # Sacamos los eigenpares\n",
    "    vLen = v.size\n",
    "    flagH = True\n",
    "    \n",
    "    for i in range(vLen):\n",
    "        if v[i] <= 0:\n",
    "            flagH = False\n",
    "    \n",
    "    if flagH == False:\n",
    "        print(\"La  hessiana no es positiva definida\")\n",
    "    \n",
    "    # Las condiciones de optimalidad se cumplen\n",
    "    if flagG == True and flagH == True:\n",
    "        print(\"Las condiciones de optimalidad se cumplen\")"
   ]
  },
  {
   "cell_type": "code",
   "execution_count": 8,
   "metadata": {},
   "outputs": [
    {
     "name": "stdout",
     "output_type": "stream",
     "text": [
      "El gradiente no es distinto de cero\n"
     ]
    }
   ],
   "source": [
    "# Probamos\n",
    "condiciones_optimalidad(f,x0)"
   ]
  },
  {
   "cell_type": "code",
   "execution_count": 9,
   "metadata": {},
   "outputs": [],
   "source": [
    "# Código que genera la función de aproximación mk que vimos en clase para el algoritmo de región de confianza\n",
    "def mk(f,xk,p):        # f función, xk y p en R^n\n",
    "    H = hessiana(f,xk)\n",
    "    G = gradiente(f,xk)\n",
    "    \n",
    "    pt = np.transpose(p)\n",
    "    \n",
    "    return f(xk) + np.dot(p,G) + 0.5*np.dot(np.dot(p,H),p)"
   ]
  },
  {
   "cell_type": "code",
   "execution_count": 10,
   "metadata": {},
   "outputs": [
    {
     "data": {
      "text/plain": [
       "55.40126121803041"
      ]
     },
     "execution_count": 10,
     "metadata": {},
     "output_type": "execute_result"
    }
   ],
   "source": [
    "# Probamos\n",
    "mk(f,x0,p)"
   ]
  }
 ],
 "metadata": {
  "kernelspec": {
   "display_name": "Python 3",
   "language": "python",
   "name": "python3"
  },
  "language_info": {
   "codemirror_mode": {
    "name": "ipython",
    "version": 3
   },
   "file_extension": ".py",
   "mimetype": "text/x-python",
   "name": "python",
   "nbconvert_exporter": "python",
   "pygments_lexer": "ipython3",
   "version": "3.8.5"
  }
 },
 "nbformat": 4,
 "nbformat_minor": 4
}
