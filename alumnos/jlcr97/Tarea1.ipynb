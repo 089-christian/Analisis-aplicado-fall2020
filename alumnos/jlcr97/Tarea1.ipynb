{
 "cells": [
  {
   "cell_type": "code",
   "execution_count": 61,
   "metadata": {},
   "outputs": [],
   "source": [
    "#Importar librerías \n",
    "import numpy as np\n",
    "from numpy import linalg as la"
   ]
  },
  {
   "cell_type": "code",
   "execution_count": 62,
   "metadata": {},
   "outputs": [],
   "source": [
    "#Código para caluclar el gradiente\n",
    "def grad(f,xo):\n",
    "    n = x0.size\n",
    "    eps=0.000001\n",
    "    res=np.zeros(n)\n",
    "    for i in range(n):\n",
    "        zer = np.zeros(n)\n",
    "        zer[i] += eps\n",
    "        x1 = x0 + zer\n",
    "        res[i] = (f(x1)-f(x0))/eps\n",
    "    return res"
   ]
  },
  {
   "cell_type": "code",
   "execution_count": 63,
   "metadata": {},
   "outputs": [
    {
     "data": {
      "text/plain": [
       "55"
      ]
     },
     "execution_count": 63,
     "metadata": {},
     "output_type": "execute_result"
    }
   ],
   "source": [
    "def f(x0):\n",
    "    return sum(x0**2 + 2*x0 -5)\n",
    "x0 = np.array([4,2,5,2])\n",
    "f(x0)"
   ]
  },
  {
   "cell_type": "code",
   "execution_count": 64,
   "metadata": {},
   "outputs": [
    {
     "data": {
      "text/plain": [
       "array([10.000001,  6.000001, 12.000001,  6.000001])"
      ]
     },
     "execution_count": 64,
     "metadata": {},
     "output_type": "execute_result"
    }
   ],
   "source": [
    "grad(f,x0)"
   ]
  },
  {
   "cell_type": "code",
   "execution_count": 65,
   "metadata": {},
   "outputs": [],
   "source": [
    "A = [[1, 4, 5,7], \n",
    "    [-5, 8, 9,1],\n",
    "    [2,3,4,8],\n",
    "    [-2,-5,11,4]]"
   ]
  },
  {
   "cell_type": "code",
   "execution_count": 66,
   "metadata": {},
   "outputs": [],
   "source": [
    "#Código que calcula la hessiana\n",
    "#el desarrollo de este método se hará con diferencias finitas \n",
    "def hess(f,xo):\n",
    "    n = x0.size\n",
    "    eps=0.000001\n",
    "    res=np.zeros((n,n))\n",
    "    for i in range(n):\n",
    "        for j in range(n):\n",
    "            zer = np.zeros(n)\n",
    "            zer2 = np.zeros(n)\n",
    "            zer[i] += eps\n",
    "            zer2[j] += eps\n",
    "            x_e = x0 + zer + zer2\n",
    "            x_ei = x0 + zer\n",
    "            x_ej = x0 + zer2\n",
    "            res[i][j] = (f(x_e)-f(x_ei)-f(x_ej)+f(x0))/(eps**2)\n",
    "    return res"
   ]
  },
  {
   "cell_type": "code",
   "execution_count": 67,
   "metadata": {},
   "outputs": [
    {
     "data": {
      "text/plain": [
       "array([[2.00373051, 0.        , 0.        , 0.        ],\n",
       "       [0.        , 2.00373051, 0.        , 0.        ],\n",
       "       [0.        , 0.        , 2.00373051, 0.        ],\n",
       "       [0.        , 0.        , 0.        , 2.00373051]])"
      ]
     },
     "execution_count": 67,
     "metadata": {},
     "output_type": "execute_result"
    }
   ],
   "source": [
    "hess(f,x0)"
   ]
  },
  {
   "cell_type": "code",
   "execution_count": 68,
   "metadata": {},
   "outputs": [],
   "source": [
    "#Código que regresa si el punto xk cumple con las condiciones de optimalidad\n",
    "def condiciones_optimalidad(gradiente,hessiana,tol):\n",
    "    n = len(gradiente)\n",
    "    v,w = la.eig(hessiana)\n",
    "    n1 = len(v)\n",
    "    bandera = True\n",
    "    bandera1 = True\n",
    "    eps=0.0001\n",
    "    \n",
    "    for i in range(n):\n",
    "        if(abs(gradiente[i])>tol):\n",
    "            bandera= False\n",
    "        if(v[i]<=0):\n",
    "            bandera1 = False\n",
    "            \n",
    "    if (bandera == True and bandera1 == True):\n",
    "        return \"las condiciones de optamilidad se cumplen\"\n",
    "    else:\n",
    "        return \"las condciones de optimalidad no se cumplen\"\n",
    "        "
   ]
  },
  {
   "cell_type": "code",
   "execution_count": 69,
   "metadata": {},
   "outputs": [
    {
     "data": {
      "text/plain": [
       "'las condciones de optimalidad no se cumplen'"
      ]
     },
     "execution_count": 69,
     "metadata": {},
     "output_type": "execute_result"
    }
   ],
   "source": [
    "condiciones_optimalidad(grad(f,x0),A,13)"
   ]
  },
  {
   "cell_type": "code",
   "execution_count": 95,
   "metadata": {},
   "outputs": [],
   "source": [
    "# definir función mk \n",
    "def mk(f,xo,p):\n",
    "    H = hess(f,xo)\n",
    "    G = grad(f,xo)\n",
    "    pt= np.transpose(p)\n",
    "    print(p)\n",
    "    print(pt)\n",
    "    print(np.dot(p,p))\n",
    "    print(f(xo))\n",
    "    return f(xo) + np.dot(pt,G) + 0.5*np.dot(np.dot(pt,H),pt)\n"
   ]
  },
  {
   "cell_type": "code",
   "execution_count": 94,
   "metadata": {},
   "outputs": [
    {
     "name": "stdout",
     "output_type": "stream",
     "text": [
      "[0.01, 0.02, 0.005, 0.02]\n",
      "[0.01  0.02  0.005 0.02 ]\n",
      "0.000925\n",
      "55\n"
     ]
    },
    {
     "data": {
      "text/plain": [
       "55.40092678037951"
      ]
     },
     "execution_count": 94,
     "metadata": {},
     "output_type": "execute_result"
    }
   ],
   "source": [
    "p=[.01,.02,.005,.02]\n",
    "mk(f,x0,p)"
   ]
  },
  {
   "cell_type": "code",
   "execution_count": null,
   "metadata": {},
   "outputs": [],
   "source": []
  },
  {
   "cell_type": "code",
   "execution_count": null,
   "metadata": {},
   "outputs": [],
   "source": []
  },
  {
   "cell_type": "code",
   "execution_count": null,
   "metadata": {},
   "outputs": [],
   "source": []
  },
  {
   "cell_type": "code",
   "execution_count": null,
   "metadata": {},
   "outputs": [],
   "source": []
  },
  {
   "cell_type": "code",
   "execution_count": null,
   "metadata": {},
   "outputs": [],
   "source": []
  }
 ],
 "metadata": {
  "kernelspec": {
   "display_name": "Python 3",
   "language": "python",
   "name": "python3"
  },
  "language_info": {
   "codemirror_mode": {
    "name": "ipython",
    "version": 3
   },
   "file_extension": ".py",
   "mimetype": "text/x-python",
   "name": "python",
   "nbconvert_exporter": "python",
   "pygments_lexer": "ipython3",
   "version": "3.8.5"
  }
 },
 "nbformat": 4,
 "nbformat_minor": 4
}
