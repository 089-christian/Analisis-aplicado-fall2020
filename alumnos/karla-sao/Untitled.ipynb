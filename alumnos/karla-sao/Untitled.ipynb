{
 "cells": [
  {
   "cell_type": "code",
   "execution_count": 1,
   "metadata": {},
   "outputs": [],
   "source": [
    "import numpy as np"
   ]
  },
  {
   "cell_type": "code",
   "execution_count": 2,
   "metadata": {},
   "outputs": [],
   "source": [
    "#La funcion dice si un punto cumple con ser un minimo local\n",
    "#Regresa True si es minimo y False si no lo es\n",
    "\n",
    "def check_optimality(grad, hess): #grad R^n, hess Rnxn\n",
    "    n = grad.size\n",
    "    landa = np.linalg.eigvals(hess) #Valores propios\n",
    "    resp = False\n",
    "    \n",
    "    for i in range(n):\n",
    "        if (grad[i] == 0) and (landa[i] >= 0):\n",
    "            resp = True\n",
    "            \n",
    "    return resp\n",
    "    "
   ]
  },
  {
   "cell_type": "code",
   "execution_count": 3,
   "metadata": {},
   "outputs": [],
   "source": [
    "#Calcula el gradiente de una funcion en el punto x0\n",
    "#x0 R^n, f una funcion\n",
    "\n",
    "def grad(f, x0):  \n",
    "    n = x0.size\n",
    "    gradiente = np.zeros(n)\n",
    "    epsilon = 0.00000001\n",
    "    \n",
    "    for i in range(n):\n",
    "        t = np.zeros(n)\n",
    "        t[i] = epsilon \n",
    "        gradiente[i] = (f(t + x0) - f(x0)) / epsilon\n",
    "        \n",
    "    return gradiente"
   ]
  },
  {
   "cell_type": "code",
   "execution_count": 4,
   "metadata": {},
   "outputs": [
    {
     "data": {
      "text/plain": [
       "55"
      ]
     },
     "execution_count": 4,
     "metadata": {},
     "output_type": "execute_result"
    }
   ],
   "source": [
    "def f(x0):\n",
    "    return sum(x0 ** 2 + 2 * x0 - 5)\n",
    "x0 = np.array([4,2,5,2])\n",
    "f(x0)"
   ]
  },
  {
   "cell_type": "code",
   "execution_count": 5,
   "metadata": {},
   "outputs": [
    {
     "data": {
      "text/plain": [
       "array([10.00000012,  5.99999979, 12.00000028,  5.99999979])"
      ]
     },
     "execution_count": 5,
     "metadata": {},
     "output_type": "execute_result"
    }
   ],
   "source": [
    "grad(f,x0)"
   ]
  },
  {
   "cell_type": "code",
   "execution_count": 15,
   "metadata": {},
   "outputs": [],
   "source": [
    "#Calcula la Hessiana de una funcion en el punto x0\n",
    "#x0 R^n, f una funcion\n",
    "def hess(f, x0):\n",
    "    n = x0.size\n",
    "    hessiana = np.zeros((n,n))\n",
    "    epsilon = 0.00000001\n",
    "    gradiente1 = grad(f, x0) #Son las primeras derivadas\n",
    "    \n",
    "    for i in range(n):\n",
    "        t = np.zeros(n)\n",
    "        t[i] = epsilon \n",
    "        gradiente2 = grad(f, (x0 + t))\n",
    "        hessiana[:,i] = (gradiente2 - gradiente1) / epsilon\n",
    "        \n",
    "        return hessiana"
   ]
  },
  {
   "cell_type": "code",
   "execution_count": 7,
   "metadata": {},
   "outputs": [
    {
     "data": {
      "text/plain": [
       "12"
      ]
     },
     "execution_count": 7,
     "metadata": {},
     "output_type": "execute_result"
    }
   ],
   "source": [
    "def f(x0):\n",
    "    return x0[1] ** 4 + x0[0] ** 3 + 3 * x0[0] ** 2 + 4 * x0[1] ** 2 - 4 * x0[0] * x0[1] - 5 * x0[1] + 8\n",
    "x0 = np.array([1,0])\n",
    "f(x0)"
   ]
  },
  {
   "cell_type": "code",
   "execution_count": 8,
   "metadata": {},
   "outputs": [
    {
     "data": {
      "text/plain": [
       "1"
      ]
     },
     "execution_count": 8,
     "metadata": {},
     "output_type": "execute_result"
    }
   ],
   "source": [
    "def f(x0):\n",
    "    return x0[0] ** 2 + x0[1] ** 2\n",
    "x0 = np.array([1,0])\n",
    "f(x0)"
   ]
  },
  {
   "cell_type": "code",
   "execution_count": 9,
   "metadata": {},
   "outputs": [
    {
     "data": {
      "text/plain": [
       "array([1.99999999, 0.        ])"
      ]
     },
     "execution_count": 9,
     "metadata": {},
     "output_type": "execute_result"
    }
   ],
   "source": [
    "grad(f,x0)"
   ]
  },
  {
   "cell_type": "code",
   "execution_count": 10,
   "metadata": {},
   "outputs": [
    {
     "data": {
      "text/plain": [
       "array([[4.4408921, 0.       ],\n",
       "       [0.       , 0.       ]])"
      ]
     },
     "execution_count": 10,
     "metadata": {},
     "output_type": "execute_result"
    }
   ],
   "source": [
    "hess(f, x0)"
   ]
  },
  {
   "cell_type": "code",
   "execution_count": 11,
   "metadata": {},
   "outputs": [],
   "source": [
    "#Funcion de prueba, el minimo esta en el vector 0\n",
    "#Se supone que la funcion existe en el punto\n",
    "def f(x0):\n",
    "    return np.sqrt(sum(x0**2))"
   ]
  },
  {
   "cell_type": "code",
   "execution_count": 12,
   "metadata": {},
   "outputs": [
    {
     "data": {
      "text/plain": [
       "11"
      ]
     },
     "execution_count": 12,
     "metadata": {},
     "output_type": "execute_result"
    }
   ],
   "source": [
    "def f(x):\n",
    "    return 10 * (x[1] - x[0] ** 2) ** 2 + (1 - x[0]) ** 2\n",
    "x = np.array([0,1])\n",
    "f(x)"
   ]
  },
  {
   "cell_type": "code",
   "execution_count": 13,
   "metadata": {},
   "outputs": [
    {
     "data": {
      "text/plain": [
       "array([-2.00000017, 19.99999988])"
      ]
     },
     "execution_count": 13,
     "metadata": {},
     "output_type": "execute_result"
    }
   ],
   "source": [
    "grad(f,x)"
   ]
  },
  {
   "cell_type": "code",
   "execution_count": 16,
   "metadata": {},
   "outputs": [
    {
     "data": {
      "text/plain": [
       "array([[ 53.29070518,   0.        ],\n",
       "       [-17.76356839,   0.        ]])"
      ]
     },
     "execution_count": 16,
     "metadata": {},
     "output_type": "execute_result"
    }
   ],
   "source": [
    "hess(f,x)"
   ]
  },
  {
   "cell_type": "code",
   "execution_count": null,
   "metadata": {},
   "outputs": [],
   "source": []
  }
 ],
 "metadata": {
  "kernelspec": {
   "display_name": "Python 3",
   "language": "python",
   "name": "python3"
  },
  "language_info": {
   "codemirror_mode": {
    "name": "ipython",
    "version": 3
   },
   "file_extension": ".py",
   "mimetype": "text/x-python",
   "name": "python",
   "nbconvert_exporter": "python",
   "pygments_lexer": "ipython3",
   "version": "3.8.5"
  }
 },
 "nbformat": 4,
 "nbformat_minor": 4
}
