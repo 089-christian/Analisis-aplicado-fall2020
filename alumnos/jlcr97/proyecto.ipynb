{
 "cells": [
  {
   "cell_type": "markdown",
   "metadata": {},
   "source": [
    "Proyecto (primera parte) \n",
    "\n",
    "En esta primera parte del proyecto se estudiará e implementará el algoritmo de Búsqueda Lineal de Newton con modificación a la Hessiana. \n"
   ]
  },
  {
   "cell_type": "code",
   "execution_count": 122,
   "metadata": {},
   "outputs": [],
   "source": [
    "#Importar librerías \n",
    "import numpy as np\n",
    "import math as ma\n",
    "import random as rd\n",
    "from numpy import linalg as la"
   ]
  },
  {
   "cell_type": "code",
   "execution_count": 123,
   "metadata": {},
   "outputs": [],
   "source": [
    "#Código para caluclar el gradiente\n",
    "#elegimos un error apropiado\n",
    "def grad(f,xo):\n",
    "    n = len(xo)\n",
    "    eps=0.000001\n",
    "    res=np.zeros(n)\n",
    "    for i in range(n):\n",
    "        zer = np.zeros(n)\n",
    "        zer[i] += eps\n",
    "        x1 = xo + zer\n",
    "        res[i] = (f(x1)-f(xo))/eps\n",
    "    return res"
   ]
  },
  {
   "cell_type": "code",
   "execution_count": 124,
   "metadata": {},
   "outputs": [
    {
     "data": {
      "text/plain": [
       "7.06449510224598"
      ]
     },
     "execution_count": 124,
     "metadata": {},
     "output_type": "execute_result"
    }
   ],
   "source": [
    "#Aquí definimos nuestras funciones para probar nuestro código\n",
    "#función 1\n",
    "def i(xo):\n",
    "    suma=0\n",
    "    for i in range(len(xo)):\n",
    "        suma=suma+ma.sqrt(xo[i])\n",
    "    return suma\n",
    "\n",
    "xo = np.array([4,2,5,2])\n",
    "#imprimimos el valor de la función en xo \n",
    "i(xo)"
   ]
  },
  {
   "cell_type": "code",
   "execution_count": 125,
   "metadata": {},
   "outputs": [
    {
     "data": {
      "text/plain": [
       "0"
      ]
     },
     "execution_count": 125,
     "metadata": {},
     "output_type": "execute_result"
    }
   ],
   "source": [
    "#Definimos la función Rosenbrock\n",
    "xo=[1,1]\n",
    "def rosen(xo):\n",
    "    return 100*(xo[1]-(xo[0])**2)**2+(1-xo[0])**2\n",
    "#imprimimos su valor en ese punto \n",
    "rosen(xo)"
   ]
  },
  {
   "cell_type": "code",
   "execution_count": 126,
   "metadata": {},
   "outputs": [
    {
     "data": {
      "text/plain": [
       "array([4.010004e-04, 1.000000e-04])"
      ]
     },
     "execution_count": 126,
     "metadata": {},
     "output_type": "execute_result"
    }
   ],
   "source": [
    "#Calculamos el gradiente de forma anlítica y lo calcula bien \n",
    "grad(rosen,xo)"
   ]
  },
  {
   "cell_type": "code",
   "execution_count": 127,
   "metadata": {},
   "outputs": [],
   "source": [
    "#Código que calcula la hessiana\n",
    "#el desarrollo de este método se hará con diferencias finitas \n",
    "def hess(f,xo):\n",
    "    n = len(xo)\n",
    "    eps=0.000001\n",
    "    res=np.zeros((n,n))\n",
    "    for i in range(n):\n",
    "        for j in range(n):\n",
    "            zer = np.zeros(n)\n",
    "            zer2 = np.zeros(n)\n",
    "            zer[i] += eps\n",
    "            zer2[j] += eps\n",
    "            x_e = xo + zer + zer2\n",
    "            x_ei = xo + zer\n",
    "            x_ej = xo + zer2\n",
    "            res[i][j] = (f(x_e)-f(x_ei)-f(x_ej)+f(xo))/(eps**2)\n",
    "    return res"
   ]
  },
  {
   "cell_type": "code",
   "execution_count": 139,
   "metadata": {},
   "outputs": [
    {
     "data": {
      "text/plain": [
       "array([[ 802.00239973, -400.00019995],\n",
       "       [-400.00019995,  199.99999997]])"
      ]
     },
     "execution_count": 139,
     "metadata": {},
     "output_type": "execute_result"
    }
   ],
   "source": [
    "#imprimimos la Hessiana \n",
    "hess(rosen,xo)"
   ]
  },
  {
   "cell_type": "code",
   "execution_count": 227,
   "metadata": {},
   "outputs": [],
   "source": [
    "#Código que regresa si el punto xk cumple con las condiciones de optimalidad\n",
    "def condiciones_optimalidad(f,xo,tol):\n",
    "    n = len(grad(f,xo))\n",
    "    v,w = la.eig(hess(f,xo))\n",
    "    n1 = len(v)\n",
    "    bandera = True\n",
    "    bandera1 = True\n",
    "    eps=0.0001\n",
    "    \n",
    "    for i in range(n):\n",
    "        if abs(grad(f,xo)[i])>tol:\n",
    "            bandera= False\n",
    "        if(v[i]<=0):\n",
    "            bandera1 = False\n",
    "            \n",
    "    if (bandera == True and bandera1 == True):\n",
    "        return True\n",
    "    else:\n",
    "        return False\n",
    "    "
   ]
  },
  {
   "cell_type": "code",
   "execution_count": 133,
   "metadata": {},
   "outputs": [
    {
     "data": {
      "text/plain": [
       "'las condiciones de optamilidad se cumplen'"
      ]
     },
     "execution_count": 133,
     "metadata": {},
     "output_type": "execute_result"
    }
   ],
   "source": [
    "#permitimos que el usuario ingrese un nivel de tolerancia \n",
    "condiciones_optimalidad(rosen,xo,.001)"
   ]
  },
  {
   "cell_type": "code",
   "execution_count": 120,
   "metadata": {},
   "outputs": [],
   "source": [
    "# definir función mk \n",
    "def mk(f,xo,p):\n",
    "    H = hess(f,xo)\n",
    "    G = grad(f,xo)\n",
    "    pt= np.transpose(p)\n",
    "    return f(xo) + np.dot(pt,G) + 0.5*np.dot(np.dot(pt,H),pt)"
   ]
  },
  {
   "cell_type": "code",
   "execution_count": 135,
   "metadata": {
    "scrolled": true
   },
   "outputs": [
    {
     "data": {
      "text/plain": [
       "0.00010608999340135658"
      ]
     },
     "execution_count": 135,
     "metadata": {},
     "output_type": "execute_result"
    }
   ],
   "source": [
    "#probamos con un punto la función\n",
    "p=[.01,.02]\n",
    "mk(rosen,xo,p)"
   ]
  },
  {
   "cell_type": "code",
   "execution_count": 225,
   "metadata": {},
   "outputs": [],
   "source": [
    "#Algoritmo de búsqueda de paso (BacksS)\n",
    "def BackS(a,f,xk,pk):\n",
    "    c = rd.uniform(0,1)\n",
    "    while f(xk+a*pk)>f(xk)+c*a*np.dot(grad(f,xk),pk):\n",
    "        rho = rd.uniform(0,1)\n",
    "        a = rho*a\n",
    "    return a \n"
   ]
  },
  {
   "cell_type": "code",
   "execution_count": 226,
   "metadata": {},
   "outputs": [
    {
     "data": {
      "text/plain": [
       "0.04366893786650258"
      ]
     },
     "execution_count": 226,
     "metadata": {},
     "output_type": "execute_result"
    }
   ],
   "source": [
    "BackS(1,rosen,np.array([1.2,1.2]),np.array([-1,-2]))"
   ]
  },
  {
   "cell_type": "code",
   "execution_count": null,
   "metadata": {},
   "outputs": [],
   "source": [
    "#Algoritmo de búsqueda lineal de Newton Modificado\n",
    "def Newton_Mod(xk,f):\n",
    "        Ek = [0,0]\n",
    "        Bk = hess(f,xk) + Ek\n",
    "        pk = la.inverse()\n",
    "        "
   ]
  },
  {
   "cell_type": "code",
   "execution_count": null,
   "metadata": {},
   "outputs": [],
   "source": []
  }
 ],
 "metadata": {
  "kernelspec": {
   "display_name": "Python 3",
   "language": "python",
   "name": "python3"
  },
  "language_info": {
   "codemirror_mode": {
    "name": "ipython",
    "version": 3
   },
   "file_extension": ".py",
   "mimetype": "text/x-python",
   "name": "python",
   "nbconvert_exporter": "python",
   "pygments_lexer": "ipython3",
   "version": "3.8.5"
  }
 },
 "nbformat": 4,
 "nbformat_minor": 4
}
