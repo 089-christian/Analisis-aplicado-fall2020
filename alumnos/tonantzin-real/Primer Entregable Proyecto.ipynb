{
 "cells": [
  {
   "cell_type": "markdown",
   "metadata": {},
   "source": [
    "**Primer Entregable del Proyecto**\\\n",
    "Tonantzin Real Rojas \\\n",
    "**C.U.** 163491 \\\n",
    "**Fecha:** Octubre 9, 2020"
   ]
  },
  {
   "cell_type": "markdown",
   "metadata": {},
   "source": [
    "**Objetivo** \\\n",
    "Estudiar e implementar el algoritmo de Búsqueda Lineal de Newton con Modificación a la Hessiana. En concreto los algoritmos 3.1 y 3.2 del libro de la clase"
   ]
  },
  {
   "cell_type": "markdown",
   "metadata": {},
   "source": [
    "**Herramientas y código** \\\n",
    "El algoritmo se debe implementar en python. Para calcular la hessiana y el gradiente se tienen que usar funciones hechas por ustedes"
   ]
  },
  {
   "cell_type": "code",
   "execution_count": 25,
   "metadata": {},
   "outputs": [],
   "source": [
    "import numpy as np\n",
    "import math as ma\n",
    "from numpy import linalg as LA"
   ]
  },
  {
   "cell_type": "markdown",
   "metadata": {},
   "source": [
    "Cálculo del gradiente de f y la hessiana \\\n",
    "Código de la tarea 1"
   ]
  },
  {
   "cell_type": "code",
   "execution_count": 27,
   "metadata": {},
   "outputs": [],
   "source": [
    "def gradiente(f, xk):  # xk in R^n, np.array, f a function\n",
    "    n = xk.size\n",
    "    epsilon = 0.0000001\n",
    "    res = np.zeros(n)\n",
    "    \n",
    "    for i in range(n):\n",
    "        zer = np.zeros(n)\n",
    "        zer[i] += epsilon\n",
    "        x1 = xk + zer\n",
    "        res[i] = (f(x1) - f(xk))/epsilon\n",
    "    return res\n",
    "\n",
    "\n",
    "def hessiana(f, xk): # xk in R^n, np.array\n",
    "    n = xk.size\n",
    "    epsilon = 0.0000001\n",
    "    res = np.zeros((n,n))\n",
    "    \n",
    "    for i in range(n):\n",
    "        for j in range (n):\n",
    "            zeri = np.zeros(n)\n",
    "            zerj = np.zeros(n)\n",
    "            zeri[i] += epsilon\n",
    "            zerj[j] += epsilon\n",
    "            \n",
    "            x2e = xk + zeri + zerj   # x + epsilon*ei + epsilon*ej\n",
    "            xei = xk + zeri          # x + epsilon*ei \n",
    "            xej = xk + zerj          # x + epsilon * ej\n",
    "            \n",
    "            res[i,j] = (f(x2e) - f(xei) - f(xej) + f(xk)) / (epsilon**2)   # Hessiana\n",
    "            \n",
    "    return res  "
   ]
  },
  {
   "cell_type": "markdown",
   "metadata": {},
   "source": [
    "**Algorithm 3.1** Backtracking Line Search"
   ]
  },
  {
   "cell_type": "code",
   "execution_count": 28,
   "metadata": {},
   "outputs": [],
   "source": [
    "def backLS(alpha,f,xk,pk):\n",
    "    \n",
    "    c = random.uniform(0,1)   \n",
    "    a = alpha\n",
    "    \n",
    "    while f(xk +a*pk) > f(xk) + c*a*np.dot(gradiente(f,xk),pk):\n",
    "       rho = random.uniform(0, 1)         # The contraction factor \n",
    "       a = rho*a      \n",
    "    return a"
   ]
  },
  {
   "cell_type": "markdown",
   "metadata": {},
   "source": [
    "**Algorithm 3.2** Line Search Newton with Modification"
   ]
  },
  {
   "cell_type": "code",
   "execution_count": null,
   "metadata": {},
   "outputs": [],
   "source": [
    "def lsNewtonMod(f,x0):\n",
    "    for k in range(5):\n",
    "        "
   ]
  },
  {
   "cell_type": "markdown",
   "metadata": {},
   "source": [
    "**Prueba** \\\n",
    "Usar la función Rosenbrock: $f(x,y) = (a-x)^2 + b(y-x^2)^2$ \\\n",
    "con $a=1, b=100$ y también con otros parámetros para ver cómo se comporta el algoritmo"
   ]
  },
  {
   "cell_type": "code",
   "execution_count": 24,
   "metadata": {},
   "outputs": [],
   "source": [
    "# Función de prueba\n",
    "\n",
    "def fRosenbrock(x,y,a=1,b=100):\n",
    "    f = (a-x)**2 + b*(y-x**2)**2\n",
    "    print(f)"
   ]
  },
  {
   "cell_type": "code",
   "execution_count": 17,
   "metadata": {},
   "outputs": [
    {
     "name": "stdout",
     "output_type": "stream",
     "text": [
      "980181\n"
     ]
    }
   ],
   "source": [
    "fRosenbrock(10,1)"
   ]
  }
 ],
 "metadata": {
  "kernelspec": {
   "display_name": "Python 3",
   "language": "python",
   "name": "python3"
  },
  "language_info": {
   "codemirror_mode": {
    "name": "ipython",
    "version": 3
   },
   "file_extension": ".py",
   "mimetype": "text/x-python",
   "name": "python",
   "nbconvert_exporter": "python",
   "pygments_lexer": "ipython3",
   "version": "3.8.5"
  }
 },
 "nbformat": 4,
 "nbformat_minor": 4
}
