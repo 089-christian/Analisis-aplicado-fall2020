{
 "cells": [
  {
   "cell_type": "code",
   "execution_count": 4,
   "metadata": {},
   "outputs": [],
   "source": [
    "import numpy as np"
   ]
  },
  {
   "cell_type": "code",
   "execution_count": 5,
   "metadata": {},
   "outputs": [
    {
     "ename": "SyntaxError",
     "evalue": "unexpected EOF while parsing (<ipython-input-5-be80315a4326>, line 5)",
     "output_type": "error",
     "traceback": [
      "\u001b[0;36m  File \u001b[0;32m\"<ipython-input-5-be80315a4326>\"\u001b[0;36m, line \u001b[0;32m5\u001b[0m\n\u001b[0;31m    \u001b[0m\n\u001b[0m    ^\u001b[0m\n\u001b[0;31mSyntaxError\u001b[0m\u001b[0;31m:\u001b[0m unexpected EOF while parsing\n"
     ]
    }
   ],
   "source": [
    "#La funcion dice si un punto cumple con ser un minimo local\n",
    "#Regresa True si es minimo y False si no lo es\n",
    "\n",
    "def check_optimality(grad, hess): #grad R^n, hess Rnxn\n",
    "    \n",
    "    "
   ]
  },
  {
   "cell_type": "code",
   "execution_count": 30,
   "metadata": {},
   "outputs": [],
   "source": [
    "#Calcula el gradiente de una funcion en el punto x0\n",
    "#x0 R^n, f una funcion\n",
    "\n",
    "def grad(f, x0):  \n",
    "    n = x0.size\n",
    "    gradiente = np.zeros(n)\n",
    "    epsilon = 0.00000001\n",
    "    \n",
    "    for i in range(n):\n",
    "        t = np.zeros(n)\n",
    "        t[i] = epsilon \n",
    "        gradiente[i] = (f(t + x0) - f(x0)) / epsilon\n",
    "        \n",
    "    return gradiente"
   ]
  },
  {
   "cell_type": "code",
   "execution_count": 31,
   "metadata": {},
   "outputs": [
    {
     "data": {
      "text/plain": [
       "55"
      ]
     },
     "execution_count": 31,
     "metadata": {},
     "output_type": "execute_result"
    }
   ],
   "source": [
    "def f(x0):\n",
    "    return sum(x0 ** 2 + 2 * x0 - 5)\n",
    "x0 = np.array([4,2,5,2])\n",
    "f(x0)"
   ]
  },
  {
   "cell_type": "code",
   "execution_count": 32,
   "metadata": {},
   "outputs": [
    {
     "data": {
      "text/plain": [
       "array([10.00000012,  5.99999979, 12.00000028,  5.99999979])"
      ]
     },
     "execution_count": 32,
     "metadata": {},
     "output_type": "execute_result"
    }
   ],
   "source": [
    "grad(f,x0)"
   ]
  },
  {
   "cell_type": "code",
   "execution_count": 79,
   "metadata": {},
   "outputs": [],
   "source": [
    "#Calcula la Hessiana de una funcion en el punto x0\n",
    "#x0 R^n, f una funcion\n",
    "def hess(f, x0):\n",
    "    n = x0.size\n",
    "    hessiana = np.zeros((n,n))\n",
    "    epsilon = 0.00000001\n",
    "    gradiente1 = grad(f, x0) #Son las primeras derivadas\n",
    "    \n",
    "    for i in range(n):\n",
    "        t = np.zeros(n)\n",
    "        t[i] = epsilon \n",
    "        gradiente2 = grad(f, (x0 + t))\n",
    "        hessiana[:,i] = (gradiente2 - gradiente1) / epsilon\n",
    "        \n",
    "        return hessiana"
   ]
  },
  {
   "cell_type": "code",
   "execution_count": 80,
   "metadata": {},
   "outputs": [
    {
     "data": {
      "text/plain": [
       "12"
      ]
     },
     "execution_count": 80,
     "metadata": {},
     "output_type": "execute_result"
    }
   ],
   "source": [
    "def f(x0):\n",
    "    return x0[1] ** 4 + x0[0] ** 3 + 3 * x0[0] ** 2 + 4 * x0[1] ** 2 - 4 * x0[0] * x0[1] - 5 * x0[1] + 8\n",
    "x0 = np.array([1,0])\n",
    "f(x0)"
   ]
  },
  {
   "cell_type": "code",
   "execution_count": 81,
   "metadata": {},
   "outputs": [
    {
     "data": {
      "text/plain": [
       "1"
      ]
     },
     "execution_count": 81,
     "metadata": {},
     "output_type": "execute_result"
    }
   ],
   "source": [
    "def f(x0):\n",
    "    return x0[0] ** 2 + x0[1] ** 2\n",
    "x0 = np.array([1,0])\n",
    "f(x0)"
   ]
  },
  {
   "cell_type": "code",
   "execution_count": 82,
   "metadata": {},
   "outputs": [
    {
     "data": {
      "text/plain": [
       "array([1.99999999, 0.        ])"
      ]
     },
     "execution_count": 82,
     "metadata": {},
     "output_type": "execute_result"
    }
   ],
   "source": [
    "grad(f,x0)"
   ]
  },
  {
   "cell_type": "code",
   "execution_count": 83,
   "metadata": {},
   "outputs": [
    {
     "data": {
      "text/plain": [
       "array([[4.4408921, 0.       ],\n",
       "       [0.       , 0.       ]])"
      ]
     },
     "execution_count": 83,
     "metadata": {},
     "output_type": "execute_result"
    }
   ],
   "source": [
    "hess(f, x0)"
   ]
  },
  {
   "cell_type": "code",
   "execution_count": 8,
   "metadata": {},
   "outputs": [],
   "source": [
    "#Funcion de prueba, el minimo esta en el vector 0\n",
    "#Se supone que la funcion existe en el punto\n",
    "def f(x0):\n",
    "    return np.sqrt(sum(x0**2))"
   ]
  },
  {
   "cell_type": "code",
   "execution_count": null,
   "metadata": {},
   "outputs": [],
   "source": []
  }
 ],
 "metadata": {
  "kernelspec": {
   "display_name": "Python 3",
   "language": "python",
   "name": "python3"
  },
  "language_info": {
   "codemirror_mode": {
    "name": "ipython",
    "version": 3
   },
   "file_extension": ".py",
   "mimetype": "text/x-python",
   "name": "python",
   "nbconvert_exporter": "python",
   "pygments_lexer": "ipython3",
   "version": "3.8.5"
  }
 },
 "nbformat": 4,
 "nbformat_minor": 4
}
