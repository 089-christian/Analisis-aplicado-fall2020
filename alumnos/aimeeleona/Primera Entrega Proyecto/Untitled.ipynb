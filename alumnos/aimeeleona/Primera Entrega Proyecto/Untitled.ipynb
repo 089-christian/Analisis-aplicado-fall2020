{
 "cells": [
  {
   "cell_type": "code",
   "execution_count": 2,
   "metadata": {},
   "outputs": [
    {
     "name": "stdout",
     "output_type": "stream",
     "text": [
      "1.19.2\n"
     ]
    }
   ],
   "source": [
    "# Algoritmo de Búsqueda Lineal de Newton con Modificación a la Hessiana.\n",
    "\n",
    "    # Algoritmos 3.1 y 3.2 de Nocedal\n",
    "\n",
    "import numpy as np\n",
    "print(np.__version__)"
   ]
  },
  {
   "cell_type": "code",
   "execution_count": 166,
   "metadata": {},
   "outputs": [],
   "source": [
    "def gradiente(func,xk):\n",
    "    # Código que calcula el gradiente de la función f en el punto xk\n",
    "        # Aquí estamos suponiendo que metemos un xk array y lo convertimos a matriz de nx1\n",
    "    cambio = .000001\n",
    "    n = len(xk)\n",
    "    grad = np.matrix(np.zeros((n,1)))\n",
    "    \n",
    "    for i in range(1,n+1):\n",
    "        aux = xk.copy()\n",
    "        aux[i-1,0] = aux[i-1,0] + cambio\n",
    "        grad[i-1,0] = round((func(aux) - func(xk))/cambio,2)\n",
    "    \n",
    "    return grad"
   ]
  },
  {
   "cell_type": "code",
   "execution_count": 161,
   "metadata": {},
   "outputs": [
    {
     "data": {
      "text/plain": [
       "array([[2402.],\n",
       "       [-600.]])"
      ]
     },
     "execution_count": 161,
     "metadata": {},
     "output_type": "execute_result"
    }
   ],
   "source": [
    "xk = np.array([2.0,1.0])\n",
    "gradiente(Rosenbrock,xk)"
   ]
  },
  {
   "cell_type": "code",
   "execution_count": 146,
   "metadata": {},
   "outputs": [],
   "source": [
    "def hessiana(func,xk):\n",
    "    # Código que calcula la hessiana de la función f en el punto xk\n",
    "        # Aquí estamos suponiendo que metemos un xk matrix de nx1\n",
    "    cambio = .000001\n",
    "    n = len(xk)\n",
    "    hess = np.matrix(np.zeros((n,n)))\n",
    "    \n",
    "    for i in range(1,n+1):\n",
    "        for j in range(1,n+1):\n",
    "            if i==j:\n",
    "                aux1 = xk.copy()\n",
    "                aux2 = xk.copy()\n",
    "                aux1[i-1,0] = aux1[i-1,0] + cambio\n",
    "                aux2[i-1,0] = aux2[i-1,0] - cambio\n",
    "                hess[i-1,j-1] = round((func(aux1)-2*func(xk)+func(aux2))/cambio**2,2)\n",
    "            else:\n",
    "                aux1 = xk.copy()\n",
    "                aux2 = xk.copy()\n",
    "                aux3 = xk.copy()\n",
    "                \n",
    "                aux1[i-1,0] = aux1[i-1,0] + cambio\n",
    "                aux1[j-1,0] = aux1[j-1,0] + cambio\n",
    "                \n",
    "                aux2[j-1,0] = aux2[j-1,0] + cambio\n",
    "                \n",
    "                aux3[i-1,0] = aux3[i-1,0] + cambio\n",
    "                \n",
    "                hess[i-1,j-1] = round((func(aux1)-func(aux2)-func(aux3)+func(xk))/cambio**2,2)\n",
    "                \n",
    "    return hess"
   ]
  },
  {
   "cell_type": "code",
   "execution_count": 148,
   "metadata": {},
   "outputs": [
    {
     "data": {
      "text/plain": [
       "matrix([[4402.64, -799.9 ],\n",
       "        [-799.9 ,  200.09]])"
      ]
     },
     "execution_count": 148,
     "metadata": {},
     "output_type": "execute_result"
    }
   ],
   "source": [
    "xk = np.matrix([[2.0],[1.0]])\n",
    "hessiana(Rosenbrock,xk)"
   ]
  },
  {
   "cell_type": "code",
   "execution_count": 86,
   "metadata": {},
   "outputs": [],
   "source": [
    "# Función de Prueba de los Algoritmos (Rosenbrock)\n",
    "def Rosenbrock(x):\n",
    "    # Aquí suponemos que x ya es una matriz (vector) de nx1\n",
    "    return (1-x[0,0])**2 + 100*(x[1,0]-x[0,0]**2)**2"
   ]
  },
  {
   "cell_type": "code",
   "execution_count": 127,
   "metadata": {},
   "outputs": [
    {
     "data": {
      "text/plain": [
       "400.0"
      ]
     },
     "execution_count": 127,
     "metadata": {},
     "output_type": "execute_result"
    }
   ],
   "source": [
    "xk = np.matrix([[1.0],[3.0]])\n",
    "Rosenbrock(xk)"
   ]
  },
  {
   "cell_type": "code",
   "execution_count": 158,
   "metadata": {},
   "outputs": [],
   "source": [
    "# Algoritmo 3.1: Backtracking Line Search\n",
    "\n",
    "def BLS(func,xk,pk,alpha,c):\n",
    "    a = alpha\n",
    "    while func(xk+a*pk) > (func(xk) + c*a*np.transpose(gradiente(func,xk))*pk):\n",
    "        a = .8*a\n",
    "    return a"
   ]
  },
  {
   "cell_type": "code",
   "execution_count": 167,
   "metadata": {},
   "outputs": [
    {
     "data": {
      "text/plain": [
       "1.0229345649675545e-16"
      ]
     },
     "execution_count": 167,
     "metadata": {},
     "output_type": "execute_result"
    }
   ],
   "source": [
    "xk = np.matrix([[1.0],[1.0]])\n",
    "pk = np.matrix([[1.0],[0.0]])\n",
    "c = .5\n",
    "alpha = 1\n",
    "BLS(Rosenbrock,xk,pk,alpha,c)"
   ]
  },
  {
   "cell_type": "code",
   "execution_count": 179,
   "metadata": {},
   "outputs": [],
   "source": [
    "# Algoritmo 3.2: Line Search Newton with Modification\n",
    "\n",
    "def LSNM(func,x0):\n",
    "    xk = np.transpose(np.matrix(x0))\n",
    "    for k in range(1,100):\n",
    "        # Suponiendo que la hessiana sí es positiva definida (simétrica):\n",
    "        Bk = hessiana(func,xk)\n",
    "        pk = np.linalg.solve(Bk,-gradiente(func,xk))\n",
    "        xk = xk + BLS(func,xk,pk,1,.5)*pk\n",
    "        \n",
    "    return xk"
   ]
  },
  {
   "cell_type": "code",
   "execution_count": 182,
   "metadata": {},
   "outputs": [
    {
     "data": {
      "text/plain": [
       "matrix([[1.00055907],\n",
       "        [1.00110329]])"
      ]
     },
     "execution_count": 182,
     "metadata": {},
     "output_type": "execute_result"
    }
   ],
   "source": [
    "x0 = np.array([5.0,1.0])\n",
    "LSNM(Rosenbrock,x0)"
   ]
  }
 ],
 "metadata": {
  "kernelspec": {
   "display_name": "Python 3",
   "language": "python",
   "name": "python3"
  },
  "language_info": {
   "codemirror_mode": {
    "name": "ipython",
    "version": 3
   },
   "file_extension": ".py",
   "mimetype": "text/x-python",
   "name": "python",
   "nbconvert_exporter": "python",
   "pygments_lexer": "ipython3",
   "version": "3.8.5"
  }
 },
 "nbformat": 4,
 "nbformat_minor": 4
}
